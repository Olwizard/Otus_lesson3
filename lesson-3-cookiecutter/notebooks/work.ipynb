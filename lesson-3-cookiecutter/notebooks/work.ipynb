{
 "cells": [
  {
   "cell_type": "code",
   "execution_count": 1,
   "metadata": {},
   "outputs": [
    {
     "data": {
      "text/plain": [
       "'/home/wizardol/Otus MlOps/lesson-3-cookiecutter'"
      ]
     },
     "execution_count": 1,
     "metadata": {},
     "output_type": "execute_result"
    }
   ],
   "source": [
    "import os\n",
    "notebook_path = str(locals()[\"_dh\"][0])\n",
    "os.chdir(os.path.join(notebook_path, \"..\"))\n",
    "os.getcwd()"
   ]
  },
  {
   "cell_type": "code",
   "execution_count": null,
   "metadata": {},
   "outputs": [],
   "source": [
    "%reload_ext autoreload\n",
    "%autoreload 2"
   ]
  },
  {
   "cell_type": "code",
   "execution_count": 2,
   "metadata": {},
   "outputs": [
    {
     "name": "stdout",
     "output_type": "stream",
     "text": [
      "Package                                  Version\n",
      "---------------------------------------- ------------\n",
      "absl-py                                  2.1.0\n",
      "aiohappyeyeballs                         2.4.0\n",
      "aiohttp                                  3.10.5\n",
      "aiosignal                                1.3.1\n",
      "albucore                                 0.0.20\n",
      "albumentations                           1.4.21\n",
      "alembic                                  1.13.2\n",
      "anaconda-anon-usage                      0.4.4\n",
      "annotated-types                          0.7.0\n",
      "antlr4-python3-runtime                   4.9.3\n",
      "anyio                                    4.4.0\n",
      "apache-airflow                           2.10.2\n",
      "apache-airflow-providers-common-compat   1.2.0\n",
      "apache-airflow-providers-common-io       1.4.0\n",
      "apache-airflow-providers-common-sql      1.16.0\n",
      "apache-airflow-providers-fab             1.3.0\n",
      "apache-airflow-providers-ftp             3.11.0\n",
      "apache-airflow-providers-http            4.13.0\n",
      "apache-airflow-providers-imap            3.7.0\n",
      "apache-airflow-providers-smtp            1.8.0\n",
      "apache-airflow-providers-sqlite          3.9.0\n",
      "apispec                                  6.6.1\n",
      "archspec                                 0.2.3\n",
      "argcomplete                              3.5.0\n",
      "argon2-cffi                              23.1.0\n",
      "argon2-cffi-bindings                     21.2.0\n",
      "asgiref                                  3.8.1\n",
      "asttokens                                2.4.1\n",
      "astunparse                               1.6.3\n",
      "attrs                                    24.2.0\n",
      "audioread                                3.0.1\n",
      "babel                                    2.16.0\n",
      "beautifulsoup4                           4.12.3\n",
      "bleach                                   6.2.0\n",
      "blinker                                  1.8.2\n",
      "boltons                                  23.0.0\n",
      "boto3                                    1.36.6\n",
      "botocore                                 1.36.6\n",
      "Bottleneck                               1.3.7\n",
      "Brotli                                   1.0.9\n",
      "bs4                                      0.0.2\n",
      "butter                                   0.13.1\n",
      "cachelib                                 0.9.0\n",
      "cachetools                               5.5.0\n",
      "catboost                                 1.2.3\n",
      "certifi                                  2024.12.14\n",
      "cffi                                     1.17.1\n",
      "charset-normalizer                       3.3.2\n",
      "clearml                                  1.16.5\n",
      "click                                    8.1.7\n",
      "clickclick                               20.10.2\n",
      "cloudpickle                              3.1.0\n",
      "colorama                                 0.4.6\n",
      "colorlog                                 6.8.2\n",
      "comm                                     0.2.2\n",
      "conda                                    24.11.2\n",
      "conda-content-trust                      0.2.0\n",
      "conda-libmamba-solver                    24.7.0\n",
      "conda-package-handling                   2.3.0\n",
      "conda_package_streaming                  0.10.0\n",
      "ConfigUpdater                            3.2\n",
      "connexion                                2.14.2\n",
      "contourpy                                1.2.0\n",
      "cron-descriptor                          1.4.5\n",
      "croniter                                 3.0.3\n",
      "cryptography                             42.0.8\n",
      "cycler                                   0.11.0\n",
      "databricks-sdk                           0.36.0\n",
      "debugpy                                  1.8.5\n",
      "decorator                                5.1.1\n",
      "defusedxml                               0.7.1\n",
      "Deprecated                               1.2.14\n",
      "dill                                     0.3.8\n",
      "distro                                   1.9.0\n",
      "dnspython                                2.6.1\n",
      "docker                                   7.1.0\n",
      "docutils                                 0.16\n",
      "duckdb                                   1.1.0\n",
      "email_validator                          2.2.0\n",
      "eval_type_backport                       0.2.0\n",
      "executing                                2.1.0\n",
      "fastjsonschema                           2.20.0\n",
      "filelock                                 3.13.1\n",
      "Flask                                    2.2.5\n",
      "Flask-AppBuilder                         4.5.0\n",
      "Flask-Babel                              2.0.0\n",
      "Flask-Caching                            2.3.0\n",
      "Flask-JWT-Extended                       4.6.0\n",
      "Flask-Limiter                            3.8.0\n",
      "Flask-Login                              0.6.3\n",
      "Flask-Session                            0.5.0\n",
      "Flask-SQLAlchemy                         2.5.1\n",
      "Flask-WTF                                1.2.1\n",
      "flatbuffers                              24.3.25\n",
      "fonttools                                4.51.0\n",
      "frozendict                               2.4.2\n",
      "frozenlist                               1.4.1\n",
      "fsspec                                   2024.9.0\n",
      "furl                                     2.1.3\n",
      "future                                   1.0.0\n",
      "gast                                     0.5.3\n",
      "geopandas                                1.0.1\n",
      "gitdb                                    4.0.11\n",
      "GitPython                                3.1.43\n",
      "google-auth                              2.35.0\n",
      "google-pasta                             0.2.0\n",
      "google-re2                               1.1.20240702\n",
      "googleapis-common-protos                 1.65.0\n",
      "graphene                                 3.4.1\n",
      "graphql-core                             3.2.5\n",
      "graphql-relay                            3.2.0\n",
      "graphviz                                 0.20.1\n",
      "greenlet                                 3.1.0\n",
      "grpcio                                   1.66.1\n",
      "gunicorn                                 23.0.0\n",
      "h11                                      0.14.0\n",
      "h3                                       4.1.2\n",
      "h3pandas                                 0.2.6\n",
      "h5py                                     3.12.1\n",
      "httpcore                                 1.0.5\n",
      "httpx                                    0.27.0\n",
      "huggingface-hub                          0.24.7\n",
      "hydra-core                               1.3.2\n",
      "idna                                     3.10\n",
      "imageio                                  2.36.0\n",
      "importlib-metadata                       6.11.0\n",
      "importlib_resources                      6.4.5\n",
      "inflection                               0.5.1\n",
      "ipykernel                                6.29.5\n",
      "ipython                                  8.27.0\n",
      "ipywidgets                               8.1.5\n",
      "iso8601                                  2.1.0\n",
      "itsdangerous                             2.2.0\n",
      "jedi                                     0.19.1\n",
      "Jinja2                                   3.1.4\n",
      "jmespath                                 0.10.0\n",
      "joblib                                   1.4.2\n",
      "jsonpatch                                1.33\n",
      "jsonpointer                              2.1\n",
      "jsonschema                               4.23.0\n",
      "jsonschema-specifications                2023.12.1\n",
      "jupyter_client                           8.6.3\n",
      "jupyter_core                             5.7.2\n",
      "jupyterlab_pygments                      0.3.0\n",
      "jupyterlab_widgets                       3.0.13\n",
      "kaggle                                   1.6.17\n",
      "keras                                    3.6.0\n",
      "kiwisolver                               1.4.4\n",
      "lazy_loader                              0.4\n",
      "lazy-object-proxy                        1.10.0\n",
      "libmambapy                               1.5.8\n",
      "librosa                                  0.10.2.post1\n",
      "lightning-utilities                      0.11.7\n",
      "limits                                   3.13.0\n",
      "linkify-it-py                            2.0.3\n",
      "llvmlite                                 0.44.0\n",
      "lockfile                                 0.12.2\n",
      "lxml                                     5.3.1\n",
      "Mako                                     1.3.5\n",
      "Markdown                                 3.4.1\n",
      "markdown-it-py                           3.0.0\n",
      "MarkupSafe                               2.1.5\n",
      "marshmallow                              3.22.0\n",
      "marshmallow-oneofschema                  3.1.1\n",
      "marshmallow-sqlalchemy                   0.28.2\n",
      "matplotlib                               3.9.2\n",
      "matplotlib-inline                        0.1.7\n",
      "mdit-py-plugins                          0.4.2\n",
      "mdurl                                    0.1.2\n",
      "menuinst                                 2.1.2\n",
      "methodtools                              0.4.7\n",
      "minio                                    7.2.14\n",
      "mistune                                  3.0.2\n",
      "mkl_fft                                  1.3.10\n",
      "mkl_random                               1.2.7\n",
      "mkl-service                              2.4.0\n",
      "ml_dtypes                                0.4.0\n",
      "mlflow                                   2.17.2\n",
      "mlflow-skinny                            2.17.2\n",
      "more-itertools                           10.5.0\n",
      "mpmath                                   1.3.0\n",
      "msgpack                                  1.1.0\n",
      "multidict                                6.1.0\n",
      "namex                                    0.0.7\n",
      "nbclient                                 0.10.0\n",
      "nbconvert                                7.16.4\n",
      "nbformat                                 5.10.4\n",
      "nest-asyncio                             1.6.0\n",
      "networkx                                 3.3\n",
      "noisereduce                              3.0.3\n",
      "numba                                    0.61.0\n",
      "numexpr                                  2.8.7\n",
      "numpy                                    1.26.4\n",
      "nvidia-cublas-cu12                       12.1.3.1\n",
      "nvidia-cuda-cupti-cu12                   12.1.105\n",
      "nvidia-cuda-nvrtc-cu12                   12.1.105\n",
      "nvidia-cuda-runtime-cu12                 12.1.105\n",
      "nvidia-cudnn-cu12                        9.1.0.70\n",
      "nvidia-cufft-cu12                        11.0.2.54\n",
      "nvidia-curand-cu12                       10.3.2.106\n",
      "nvidia-cusolver-cu12                     11.4.5.107\n",
      "nvidia-cusparse-cu12                     12.1.0.106\n",
      "nvidia-nccl-cu12                         2.20.5\n",
      "nvidia-nvjitlink-cu12                    12.6.68\n",
      "nvidia-nvtx-cu12                         12.1.105\n",
      "omegaconf                                2.3.0\n",
      "opencv-python                            4.10.0.84\n",
      "opencv-python-headless                   4.10.0.84\n",
      "opentelemetry-api                        1.27.0\n",
      "opentelemetry-exporter-otlp              1.27.0\n",
      "opentelemetry-exporter-otlp-proto-common 1.27.0\n",
      "opentelemetry-exporter-otlp-proto-grpc   1.27.0\n",
      "opentelemetry-exporter-otlp-proto-http   1.27.0\n",
      "opentelemetry-proto                      1.27.0\n",
      "opentelemetry-sdk                        1.27.0\n",
      "opentelemetry-semantic-conventions       0.48b0\n",
      "opt-einsum                               3.3.0\n",
      "optree                                   0.12.1\n",
      "optuna                                   4.0.0\n",
      "ordered-set                              4.1.0\n",
      "orderedmultidict                         1.0.1\n",
      "outcome                                  1.3.0.post0\n",
      "packaging                                24.1\n",
      "pandas                                   2.2.2\n",
      "pandocfilters                            1.5.1\n",
      "parso                                    0.8.4\n",
      "pathlib2                                 2.3.7.post1\n",
      "pathspec                                 0.12.1\n",
      "patsy                                    1.0.1\n",
      "pendulum                                 3.0.0\n",
      "pexpect                                  4.9.0\n",
      "pillow                                   10.4.0\n",
      "pip                                      24.3.1\n",
      "platformdirs                             4.3.3\n",
      "plotly                                   5.24.1\n",
      "pluggy                                   1.5.0\n",
      "ply                                      3.11\n",
      "pooch                                    1.8.2\n",
      "prison                                   0.2.1\n",
      "prompt_toolkit                           3.0.47\n",
      "protobuf                                 4.25.4\n",
      "psutil                                   6.0.0\n",
      "psycopg2                                 2.9.10\n",
      "ptyprocess                               0.7.0\n",
      "pure_eval                                0.2.3\n",
      "py-cpuinfo                               9.0.0\n",
      "py4j                                     0.10.9.7\n",
      "pyarrow                                  17.0.0\n",
      "pyasn1                                   0.6.1\n",
      "pyasn1_modules                           0.4.1\n",
      "PyAudio                                  0.2.14\n",
      "pycosat                                  0.6.6\n",
      "pycparser                                2.22\n",
      "pycryptodome                             3.21.0\n",
      "pydantic                                 2.9.2\n",
      "pydantic_core                            2.23.4\n",
      "Pygments                                 2.18.0\n",
      "PyJWT                                    2.8.0\n",
      "pyogrio                                  0.10.0\n",
      "pyparsing                                3.1.2\n",
      "pyproj                                   3.7.0\n",
      "PyQt5                                    5.15.10\n",
      "PyQt5-sip                                12.13.0\n",
      "PySocks                                  1.7.1\n",
      "pyspark                                  3.5.2\n",
      "python-daemon                            3.0.1\n",
      "python-dateutil                          2.9.0.post0\n",
      "python-dotenv                            1.0.1\n",
      "python-nvd3                              0.16.0\n",
      "python-slugify                           8.0.4\n",
      "pytorch-lifestream                       0.6.0\n",
      "pytorch-lightning                        2.4.0\n",
      "pytz                                     2024.2\n",
      "PyYAML                                   6.0.2\n",
      "pyzmq                                    26.2.0\n",
      "referencing                              0.35.1\n",
      "regex                                    2024.9.11\n",
      "requests                                 2.32.3\n",
      "requests-toolbelt                        1.0.0\n",
      "rfc3339-validator                        0.1.4\n",
      "rich                                     13.8.1\n",
      "rich-argparse                            1.5.2\n",
      "rpds-py                                  0.20.0\n",
      "rsa                                      4.9\n",
      "ruamel.yaml                              0.17.21\n",
      "s3transfer                               0.11.2\n",
      "safetensors                              0.4.5\n",
      "scikit-image                             0.24.0\n",
      "scikit-learn                             1.5.1\n",
      "scipy                                    1.13.1\n",
      "seaborn                                  0.13.2\n",
      "selenium                                 4.25.0\n",
      "serial                                   0.0.97\n",
      "setproctitle                             1.3.3\n",
      "setuptools                               75.1.0\n",
      "shapely                                  2.0.6\n",
      "simsimd                                  6.0.5\n",
      "sip                                      6.7.12\n",
      "six                                      1.16.0\n",
      "smmap                                    5.0.1\n",
      "sniffio                                  1.3.1\n",
      "sortedcontainers                         2.4.0\n",
      "sounddevice                              0.5.1\n",
      "soundfile                                0.13.0\n",
      "soupsieve                                2.6\n",
      "soxr                                     0.5.0.post1\n",
      "SQLAlchemy                               1.4.54\n",
      "SQLAlchemy-JSONField                     1.0.2\n",
      "SQLAlchemy-Utils                         0.41.2\n",
      "sqlparse                                 0.5.1\n",
      "stack-data                               0.6.3\n",
      "statsmodels                              0.14.4\n",
      "stringzilla                              3.10.10\n",
      "sympy                                    1.13.1\n",
      "tabulate                                 0.9.0\n",
      "tenacity                                 8.5.0\n",
      "tensorboard                              2.17.0\n",
      "tensorboard_data_server                  0.7.0\n",
      "tensorflow                               2.17.0\n",
      "tensorflow_estimator                     2.15.0\n",
      "termcolor                                2.1.0\n",
      "text-unidecode                           1.3\n",
      "threadpoolctl                            3.5.0\n",
      "tifffile                                 2024.9.20\n",
      "time-machine                             2.15.0\n",
      "tinycss2                                 1.4.0\n",
      "tokenizers                               0.19.1\n",
      "torch                                    2.5.1\n",
      "torchaudio                               2.5.1\n",
      "torchinfo                                1.8.0\n",
      "torchmetrics                             1.4.2\n",
      "torchvision                              0.20.1\n",
      "tornado                                  6.4.1\n",
      "tqdm                                     4.66.4\n",
      "traitlets                                5.14.3\n",
      "transformers                             4.44.2\n",
      "trio                                     0.26.2\n",
      "trio-websocket                           0.11.1\n",
      "triton                                   3.0.0\n",
      "truststore                               0.8.0\n",
      "typing_extensions                        4.12.2\n",
      "tzdata                                   2024.1\n",
      "uc-micro-py                              1.0.3\n",
      "ultralytics                              8.3.28\n",
      "ultralytics-thop                         2.0.11\n",
      "umap                                     0.1.1\n",
      "unicodecsv                               0.14.1\n",
      "unicodedata2                             15.1.0\n",
      "universal_pathlib                        0.2.5\n",
      "urllib3                                  2.2.2\n",
      "Wave                                     0.0.2\n",
      "wcwidth                                  0.2.13\n",
      "webdriver-manager                        4.0.2\n",
      "webencodings                             0.5.1\n",
      "websocket-client                         1.8.0\n",
      "Werkzeug                                 2.2.3\n",
      "wheel                                    0.43.0\n",
      "widgetsnbextension                       4.0.13\n",
      "wirerope                                 0.4.7\n",
      "wrapt                                    1.14.1\n",
      "wsproto                                  1.2.0\n",
      "WTForms                                  3.1.2\n",
      "yarl                                     1.11.1\n",
      "zipp                                     3.20.2\n",
      "zstandard                                0.22.0\n"
     ]
    }
   ],
   "source": [
    "!pip list"
   ]
  },
  {
   "cell_type": "code",
   "execution_count": 4,
   "metadata": {},
   "outputs": [
    {
     "name": "stdout",
     "output_type": "stream",
     "text": [
      "/bin/python3: No module named pip\n",
      "Note: you may need to restart the kernel to use updated packages.\n"
     ]
    }
   ],
   "source": [
    "pip install pandas"
   ]
  },
  {
   "cell_type": "code",
   "execution_count": 2,
   "metadata": {},
   "outputs": [
    {
     "data": {
      "text/plain": [
       "'2.2.2'"
      ]
     },
     "execution_count": 2,
     "metadata": {},
     "output_type": "execute_result"
    }
   ],
   "source": [
    "import pandas as pd\n",
    "pd.__version__"
   ]
  },
  {
   "cell_type": "code",
   "execution_count": 4,
   "metadata": {},
   "outputs": [
    {
     "data": {
      "text/plain": [
       "10"
      ]
     },
     "execution_count": 4,
     "metadata": {},
     "output_type": "execute_result"
    }
   ],
   "source": [
    "lst = [1, 2, 3, 4]\n",
    "sum(lst)"
   ]
  },
  {
   "cell_type": "code",
   "execution_count": 5,
   "metadata": {},
   "outputs": [],
   "source": [
    "def sum_end(x):\n",
    "    return sum(x)"
   ]
  },
  {
   "cell_type": "code",
   "execution_count": 7,
   "metadata": {},
   "outputs": [
    {
     "data": {
      "text/plain": [
       "5.0"
      ]
     },
     "execution_count": 7,
     "metadata": {},
     "output_type": "execute_result"
    }
   ],
   "source": [
    "sum_end(lst)/2"
   ]
  },
  {
   "cell_type": "code",
   "execution_count": 15,
   "metadata": {},
   "outputs": [
    {
     "name": "stdout",
     "output_type": "stream",
     "text": [
      "Requirement already satisfied: pytest in /home/wizardol/miniconda3/lib/python3.12/site-packages (8.3.5)\n",
      "Requirement already satisfied: pluggy in /home/wizardol/miniconda3/lib/python3.12/site-packages (1.5.0)\n",
      "Requirement already satisfied: iniconfig in /home/wizardol/miniconda3/lib/python3.12/site-packages (from pytest) (2.1.0)\n",
      "Requirement already satisfied: packaging in /home/wizardol/.local/lib/python3.12/site-packages (from pytest) (24.1)\n",
      "\n",
      "\u001b[1m[\u001b[0m\u001b[34;49mnotice\u001b[0m\u001b[1;39;49m]\u001b[0m\u001b[39;49m A new release of pip is available: \u001b[0m\u001b[31;49m24.3.1\u001b[0m\u001b[39;49m -> \u001b[0m\u001b[32;49m25.0.1\u001b[0m\n",
      "\u001b[1m[\u001b[0m\u001b[34;49mnotice\u001b[0m\u001b[1;39;49m]\u001b[0m\u001b[39;49m To update, run: \u001b[0m\u001b[32;49mpip install --upgrade pip\u001b[0m\n",
      "Note: you may need to restart the kernel to use updated packages.\n"
     ]
    }
   ],
   "source": [
    "pip install --upgrade pytest pluggy"
   ]
  },
  {
   "cell_type": "code",
   "execution_count": 3,
   "metadata": {},
   "outputs": [
    {
     "name": "stdout",
     "output_type": "stream",
     "text": [
      "/home/wizardol/miniconda3/lib/python3.12/site-packages/conda/base/context.py:201: FutureWarning: Adding 'defaults' to channel list implicitly is deprecated and will be removed in 25.3. \n",
      "\n",
      "To remove this warning, please choose a default channel explicitly with conda's regular configuration system, e.g. by adding 'defaults' to the list of channels:\n",
      "\n",
      "  conda config --add channels defaults\n",
      "\n",
      "For more information see https://docs.conda.io/projects/conda/en/stable/user-guide/configuration/use-condarc.html\n",
      "\n",
      "  deprecated.topic(\n",
      "/home/wizardol/miniconda3/lib/python3.12/site-packages/conda/base/context.py:201: FutureWarning: Adding 'defaults' to channel list implicitly is deprecated and will be removed in 25.3. \n",
      "\n",
      "To remove this warning, please choose a default channel explicitly with conda's regular configuration system, e.g. by adding 'defaults' to the list of channels:\n",
      "\n",
      "  conda config --add channels defaults\n",
      "\n",
      "For more information see https://docs.conda.io/projects/conda/en/stable/user-guide/configuration/use-condarc.html\n",
      "\n",
      "  deprecated.topic(\n",
      "Channels:\n",
      " - defaults\n",
      " - conda-forge\n",
      " - nvidia\n",
      " - pytorch\n",
      "Platform: linux-64\n",
      "Collecting package metadata (repodata.json): done\n",
      "Solving environment: done\n",
      "\n",
      "# All requested packages already installed.\n",
      "\n",
      "\n",
      "Note: you may need to restart the kernel to use updated packages.\n"
     ]
    }
   ],
   "source": [
    "conda update pytest pluggy"
   ]
  },
  {
   "cell_type": "code",
   "execution_count": 1,
   "metadata": {},
   "outputs": [
    {
     "ename": "ModuleNotFoundError",
     "evalue": "No module named 'src'",
     "output_type": "error",
     "traceback": [
      "\u001b[0;31m---------------------------------------------------------------------------\u001b[0m",
      "\u001b[0;31mModuleNotFoundError\u001b[0m                       Traceback (most recent call last)",
      "Cell \u001b[0;32mIn[1], line 3\u001b[0m\n\u001b[1;32m      1\u001b[0m \u001b[38;5;28;01mimport\u001b[39;00m \u001b[38;5;21;01mpytest\u001b[39;00m\n\u001b[0;32m----> 3\u001b[0m \u001b[38;5;28;01mfrom\u001b[39;00m \u001b[38;5;21;01msrc\u001b[39;00m\u001b[38;5;21;01m.\u001b[39;00m\u001b[38;5;21;01mmodul_func\u001b[39;00m \u001b[38;5;28;01mimport\u001b[39;00m sum_end\n",
      "\u001b[0;31mModuleNotFoundError\u001b[0m: No module named 'src'"
     ]
    }
   ],
   "source": [
    "import pytest\n",
    "\n",
    "from src.modul_func import sum_end"
   ]
  },
  {
   "cell_type": "code",
   "execution_count": 7,
   "metadata": {},
   "outputs": [
    {
     "data": {
      "text/plain": [
       "20"
      ]
     },
     "execution_count": 7,
     "metadata": {},
     "output_type": "execute_result"
    }
   ],
   "source": [
    "from modul_func import sum_end\n",
    "\n",
    "sum_end(lst)*2\n"
   ]
  }
 ],
 "metadata": {
  "kernelspec": {
   "display_name": "base",
   "language": "python",
   "name": "python3"
  },
  "language_info": {
   "codemirror_mode": {
    "name": "ipython",
    "version": 3
   },
   "file_extension": ".py",
   "mimetype": "text/x-python",
   "name": "python",
   "nbconvert_exporter": "python",
   "pygments_lexer": "ipython3",
   "version": "3.12.2"
  }
 },
 "nbformat": 4,
 "nbformat_minor": 2
}
